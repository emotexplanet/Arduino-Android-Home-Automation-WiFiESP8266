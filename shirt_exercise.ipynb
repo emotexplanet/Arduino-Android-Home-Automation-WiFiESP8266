{
  "nbformat": 4,
  "nbformat_minor": 0,
  "metadata": {
    "kernelspec": {
      "display_name": "Python 3",
      "language": "python",
      "name": "python3"
    },
    "language_info": {
      "codemirror_mode": {
        "name": "ipython",
        "version": 3
      },
      "file_extension": ".py",
      "mimetype": "text/x-python",
      "name": "python",
      "nbconvert_exporter": "python",
      "pygments_lexer": "ipython3",
      "version": "3.6.3"
    },
    "colab": {
      "name": "shirt_exercise.ipynb",
      "provenance": [],
      "include_colab_link": true
    }
  },
  "cells": [
    {
      "cell_type": "markdown",
      "metadata": {
        "id": "view-in-github",
        "colab_type": "text"
      },
      "source": [
        "<a href=\"https://colab.research.google.com/github/emotexplanet/Arduino-Android-Home-Automation-WiFiESP8266/blob/master/shirt_exercise.ipynb\" target=\"_parent\"><img src=\"https://colab.research.google.com/assets/colab-badge.svg\" alt=\"Open In Colab\"/></a>"
      ]
    },
    {
      "cell_type": "markdown",
      "metadata": {
        "id": "Cu68pVl-fjfF"
      },
      "source": [
        "# Use the Shirt Class\n",
        "\n",
        "You've seen what a class looks like and how to instantiate an object. Now it's your turn to write code that insantiates a shirt object.\n",
        "\n",
        "# Your Task\n",
        "\n",
        "Fill out the TODOs in each section of the Jupyter notebook. You can find a solution in the answer.py file.\n",
        "\n",
        "First, run this code cell below to load the Shirt class."
      ]
    },
    {
      "cell_type": "code",
      "metadata": {
        "id": "f8bGqGG4fjfG"
      },
      "source": [
        "class Shirt:\n",
        "\n",
        "    def __init__(self, shirt_color, shirt_size, shirt_style, shirt_price):\n",
        "        self.color = shirt_color\n",
        "        self.size = shirt_size\n",
        "        self.style = shirt_style\n",
        "        self.price = shirt_price\n",
        "    \n",
        "    def change_price(self, new_price):\n",
        "    \n",
        "        self.price = new_price\n",
        "        \n",
        "    def discount(self, discount):\n",
        "\n",
        "        return self.price * (1 - discount)"
      ],
      "execution_count": null,
      "outputs": []
    },
    {
      "cell_type": "code",
      "metadata": {
        "id": "vZpV0T99fjfI"
      },
      "source": [
        "### TODO:\n",
        "#    - insantiate a shirt object with the following characteristics:\n",
        "#        - color red, size S, style long-sleeve, and price 25\n",
        "#    - store the object in a variable called shirt_one\n",
        "#\n",
        "#\n",
        "###\n"
      ],
      "execution_count": null,
      "outputs": []
    },
    {
      "cell_type": "code",
      "metadata": {
        "id": "AMIQ-kGEfjfK"
      },
      "source": [
        "### TODO:\n",
        "#     - print the price of the shirt using the price attribute\n",
        "#     - use the change_price method to change the price of the shirt to 10\n",
        "#     - print the price of the shirt using the price attribute\n",
        "#     - use the discount method to print the price of the shirt with a 12% discount\n",
        "#\n",
        "###\n"
      ],
      "execution_count": null,
      "outputs": []
    },
    {
      "cell_type": "code",
      "metadata": {
        "id": "iXMfQQWifjfN"
      },
      "source": [
        "### TODO:\n",
        "#\n",
        "#    - instantiate another object with the following characteristics:\n",
        "# .       - color orange, size L, style short-sleeve, and price 10\n",
        "#    - store the object in a variable called shirt_two\n",
        "#\n",
        "###\n"
      ],
      "execution_count": null,
      "outputs": []
    },
    {
      "cell_type": "code",
      "metadata": {
        "id": "IN1yPKiXfjfP"
      },
      "source": [
        "### TODO:\n",
        "#\n",
        "#    - calculate the total cost of shirt_one and shirt_two\n",
        "#    - store the results in a variable called total\n",
        "#    \n",
        "###\n"
      ],
      "execution_count": null,
      "outputs": []
    },
    {
      "cell_type": "code",
      "metadata": {
        "id": "4lE3QvSxfjfR"
      },
      "source": [
        "### TODO:\n",
        "#\n",
        "#    - use the shirt discount method to calculate the total cost if\n",
        "#       shirt_one has a discount of 14% and shirt_two has a discount\n",
        "#       of 6%\n",
        "#    - store the results in a variable called total_discount\n",
        "###\n"
      ],
      "execution_count": null,
      "outputs": []
    },
    {
      "cell_type": "markdown",
      "metadata": {
        "id": "H7Tj-i2zfjfT"
      },
      "source": [
        "# Test your Code\n",
        "\n",
        "\n",
        "The following code cell tests your code. \n",
        "\n",
        "There is a file called tests.py containing a function called run_tests(). The run_tests() function executes a handful of assert statements to check your work. You can see this file if you go to the Jupyter Notebook menu and click on \"File->Open\" and then open the tests.py file.\n",
        "\n",
        "Execute the next code cell. The code will produce an error if your answers in this exercise are not what was expected. Keep working on your code until all tests are passing.\n",
        "\n",
        "If you run the code cell and there is no output, then you passed all the tests!\n",
        "\n",
        "As mentioned previously, there's also a file with a solution. To find the solution, click on the Jupyter logo at the top of the workspace, and then enter the folder titled 1.OOP_syntax_shirt_practice"
      ]
    },
    {
      "cell_type": "code",
      "metadata": {
        "id": "DBwVfCN-g_Pl"
      },
      "source": [
        "def run_tests(shirt_one, shirt_two, total_cost, total_discount):\n",
        " \n",
        "    # Unit tests to check your solution\n",
        "    assert shirt_one.price == 10, 'shirt_one price should be 10'\n",
        "    assert shirt_one.color == 'red', ' shirt_one should be red'\n",
        "    assert shirt_one.style == 'long-sleeve', 'shirt_one should be long_sleeve style'\n",
        "    assert shirt_one.size == 'S', 'shirt_one size should be S'\n",
        "\n",
        "    assert shirt_two.price == 10, 'shirt_two price should be 10'\n",
        "    assert shirt_two.color == 'orange', 'shirt_two should be orange'\n",
        "    assert shirt_two.style == 'short-sleeve', 'shirt_two should be short_sleeve style'\n",
        "    assert shirt_two.size == 'L', 'shirt_two size should be L'\n",
        "\n",
        "    assert total_cost == 20, 'the total_cost of both shirts should be 20'\n",
        "    \n",
        "    assert round(total_discount) == 18, 'total_discount should be 18.0'"
      ],
      "execution_count": null,
      "outputs": []
    },
    {
      "cell_type": "code",
      "metadata": {
        "id": "iOUWYpMlfjfT",
        "colab": {
          "base_uri": "https://localhost:8080/",
          "height": 164
        },
        "outputId": "b18abd7c-9f40-4a0d-dc9c-1037e2e3edd4"
      },
      "source": [
        "# Unit tests to check your solution\n",
        "run_tests(shirt_one, shirt_two, total, total_discount)"
      ],
      "execution_count": null,
      "outputs": [
        {
          "output_type": "error",
          "ename": "NameError",
          "evalue": "ignored",
          "traceback": [
            "\u001b[0;31m---------------------------------------------------------------------------\u001b[0m",
            "\u001b[0;31mNameError\u001b[0m                                 Traceback (most recent call last)",
            "\u001b[0;32m<ipython-input-2-f6a58da1123e>\u001b[0m in \u001b[0;36m<module>\u001b[0;34m()\u001b[0m\n\u001b[0;32m----> 1\u001b[0;31m \u001b[0mrun_tests\u001b[0m\u001b[0;34m(\u001b[0m\u001b[0mshirt_one\u001b[0m\u001b[0;34m,\u001b[0m \u001b[0mshirt_two\u001b[0m\u001b[0;34m,\u001b[0m \u001b[0mtotal\u001b[0m\u001b[0;34m,\u001b[0m \u001b[0mtotal_discount\u001b[0m\u001b[0;34m)\u001b[0m\u001b[0;34m\u001b[0m\u001b[0;34m\u001b[0m\u001b[0m\n\u001b[0m",
            "\u001b[0;31mNameError\u001b[0m: name 'shirt_one' is not defined"
          ]
        }
      ]
    },
    {
      "cell_type": "code",
      "metadata": {
        "id": "mtQI_iGefjfV"
      },
      "source": [],
      "execution_count": null,
      "outputs": []
    }
  ]
}